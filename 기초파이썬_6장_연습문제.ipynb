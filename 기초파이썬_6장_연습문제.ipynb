{
  "nbformat": 4,
  "nbformat_minor": 0,
  "metadata": {
    "colab": {
      "provenance": [],
      "authorship_tag": "ABX9TyMgpmreCkWuvRImER4nz8f6",
      "include_colab_link": true
    },
    "kernelspec": {
      "name": "python3",
      "display_name": "Python 3"
    },
    "language_info": {
      "name": "python"
    }
  },
  "cells": [
    {
      "cell_type": "markdown",
      "metadata": {
        "id": "view-in-github",
        "colab_type": "text"
      },
      "source": [
        "<a href=\"https://colab.research.google.com/github/leeyujinn/BP_10_Ch6/blob/main/%EA%B8%B0%EC%B4%88%ED%8C%8C%EC%9D%B4%EC%8D%AC_6%EC%9E%A5_%EC%97%B0%EC%8A%B5%EB%AC%B8%EC%A0%9C.ipynb\" target=\"_parent\"><img src=\"https://colab.research.google.com/assets/colab-badge.svg\" alt=\"Open In Colab\"/></a>"
      ]
    },
    {
      "cell_type": "markdown",
      "source": [
        "1. 2부터 100 사이의 모든 짝수를 출력하는 반복 루프를 작성한다."
      ],
      "metadata": {
        "id": "78zqery0Jidh"
      }
    },
    {
      "cell_type": "code",
      "execution_count": null,
      "metadata": {
        "colab": {
          "base_uri": "https://localhost:8080/"
        },
        "id": "K-UbvhEhJenP",
        "outputId": "abf9f3e2-5c2f-48ac-f684-bb256edbac6e"
      },
      "outputs": [
        {
          "output_type": "stream",
          "name": "stdout",
          "text": [
            "2 4 6 8 10 12 14 16 18 20 22 24 26 28 30 32 34 36 38 40 42 44 46 48 50 52 54 56 58 60 62 64 66 68 70 72 74 76 78 80 82 84 86 88 90 92 94 96 98 100 "
          ]
        }
      ],
      "source": [
        "for i in range(2,101): #변수 i를 2부터 100까지 반복\n",
        "  if i%2==0 : #변수 i를 2로 나눈 나머지가 0이라면\n",
        "    print(i,end = \" \") #2부터 100사이의 모든 짝수를 출력"
      ]
    },
    {
      "cell_type": "markdown",
      "source": [
        "2. 어떤 사람이 복리이자율 7%로 1000만원을 저금했을 경우에 2000만원이 되는데 몇 년이 걸리는지 계산하기 위하여 다음과 같이 코드를 작성하였다. 잘못된 점은 없는지 체크해보자."
      ],
      "metadata": {
        "id": "s_9lXfT9J1W_"
      }
    },
    {
      "cell_type": "code",
      "source": [
        "year = 0 #변수 year을 0으로 저장\n",
        "balance = 1000 #변수 balance를 1000으로 저장\n",
        "\n",
        "while balance <= 2000: #balance가 2000이하인동안\n",
        "  year = year + 1 #year(처음에에 선언한 값) + 1은 변수 year로 저장\n",
        "  interest = balance*0.07 #balance*0.07은 변수 interest에 저장\n",
        "  balance = balance + interest #balance+interest의 값을 balance라는 변수에 저장\n",
        "print(year,\"년이 걸립니다.\") #year(다섯번째줄 앞쪽 변수)년이 걸린다고 출력"
      ],
      "metadata": {
        "colab": {
          "base_uri": "https://localhost:8080/"
        },
        "id": "-W-c5zkvKCB_",
        "outputId": "b6b999b2-3437-4518-d5d2-d6f11537ce31"
      },
      "execution_count": 2,
      "outputs": [
        {
          "output_type": "stream",
          "name": "stdout",
          "text": [
            "11 년이 걸립니다.\n"
          ]
        }
      ]
    },
    {
      "cell_type": "markdown",
      "source": [
        "3. 다음 코드의 출력을 예상해보자. 각 단계에서 변수의 값을 예상해보시오."
      ],
      "metadata": {
        "id": "lF-0JnrdKcdP"
      }
    },
    {
      "cell_type": "code",
      "source": [
        "n = 1234 #변수 n을 1234로 저장\n",
        "sum = 0 #변수 sum을 0으로 저장\n",
        "while n>0: #n이 0보다 작을을동안\n",
        "  digit = n % 10 #n을 10으로 나눈 나머지를 변수 digit라 저장\n",
        "  sum = sum + digit # sum(처음 값)+digit를 변수 sum이라 저장\n",
        "  n = n // 10 #n(처음 값)을 10으로 나눈 값(정수)를 변수 n으로 저장\n",
        "  print(sum) #sum의 값을 출력"
      ],
      "metadata": {
        "colab": {
          "base_uri": "https://localhost:8080/"
        },
        "id": "2KPBOc4KKkmH",
        "outputId": "3156e2ed-c479-4ebb-b5a7-459406a41dfc"
      },
      "execution_count": 1,
      "outputs": [
        {
          "output_type": "stream",
          "name": "stdout",
          "text": [
            "4\n",
            "7\n",
            "9\n",
            "10\n"
          ]
        }
      ]
    },
    {
      "cell_type": "markdown",
      "source": [
        "4. 사용자에게 곱셈 퀴즈를 내고 답을 사용자로부터 받는 프로그램에서 사용자가 올바른 답을 입력할 때까지 반복하도록 수정하여 보자."
      ],
      "metadata": {
        "id": "RRAKFcoMKxm3"
      }
    },
    {
      "cell_type": "code",
      "source": [
        "ans = 0 #변수 ans를 0이라고 저장\n",
        "while ans != 3*9:  #ans != 3*9와 다른가? -> 답이 맞을때까지 반복\n",
        "  ans = int(input(\"3*9는\")) #사용자로부터 3*9의 답을 받음\n",
        "print(\"맞았습니다.\") #맞으면 맞았습니다를 출력"
      ],
      "metadata": {
        "colab": {
          "base_uri": "https://localhost:8080/"
        },
        "id": "1a12THCKK5UP",
        "outputId": "5c78d80d-abad-4f26-cc84-520bfbe666a1"
      },
      "execution_count": 5,
      "outputs": [
        {
          "output_type": "stream",
          "name": "stdout",
          "text": [
            "3*9는8\n",
            "3*9는9\n",
            "3*9는27\n",
            "맞았습니다.\n"
          ]
        }
      ]
    },
    {
      "cell_type": "markdown",
      "source": [
        "5. 사용자가 입력한 정수의 합을 계산하는 프로그램을 작성하자. 사용자가 0을 입력하기 전까지 정수를 계속하여 읽도록 한다."
      ],
      "metadata": {
        "id": "_QFKfKX9LTuP"
      }
    },
    {
      "cell_type": "code",
      "source": [
        "sum = 0 #변수 sum을 0이라고 저장\n",
        "while True: #참이 될 때까지 반복(사용자가 0을 입력할때까지 반복)\n",
        "  x = int(input(\"정수를 입력하시오:\")) #사용자로부터 정수x값을 받음\n",
        "  if x == 0: #x의 값이 0이라면\n",
        "    break; #멈춘다\n",
        "  sum = sum + x #0+x의 값을 변수sum에 저장\n",
        "\n",
        "print(\"합은\",sum,\"입니다.\") #합은 sum의 결과 입니다.를 출력력"
      ],
      "metadata": {
        "id": "eQx4SG8dLZ4A",
        "colab": {
          "base_uri": "https://localhost:8080/"
        },
        "outputId": "ec466834-c07b-4f42-a15f-631dfe803c58"
      },
      "execution_count": 7,
      "outputs": [
        {
          "output_type": "stream",
          "name": "stdout",
          "text": [
            "정수를 입력하시오:1\n",
            "정수를 입력하시오:2\n",
            "정수를 입력하시오:3\n",
            "정수를 입력하시오:0\n",
            "합은 6 입니다.\n"
          ]
        }
      ]
    },
    {
      "cell_type": "markdown",
      "source": [
        "6. 난수 생성 함수를 사용하여서 2개의 주사위를 던졌을 때 나오는 수를 다음과 같이 출력하여 보자."
      ],
      "metadata": {
        "id": "iAujnJrvL0pg"
      }
    },
    {
      "cell_type": "code",
      "source": [
        "from random import randint #radint라이브러리의 random 기능을 가져오기기\n",
        "\n",
        "for i in range(3) : #변수 i를 3번 반복\n",
        "  d1 = randint(1,6) #1에서 6까지 랜덤하게 나오는 수를 변수 d1에 저장\n",
        "  d2 = randint(1,6) #1에서 6까지 랜덤하게 나오는 수를 변수 d2에 저장\n",
        "  print(\"첫번째 주사위=\", d1, \"두번째 주사위=\", d2) #첫번째 주사위=d1의 값 두번째 주사위=d2의 값을 출력"
      ],
      "metadata": {
        "colab": {
          "base_uri": "https://localhost:8080/"
        },
        "id": "JvgAn50BL71H",
        "outputId": "1013ac1f-cc0c-42ae-cb49-327ab6d7460c"
      },
      "execution_count": 6,
      "outputs": [
        {
          "output_type": "stream",
          "name": "stdout",
          "text": [
            "첫번째 주사위= 2 두번째 주사위= 4\n",
            "첫번째 주사위= 4 두번째 주사위= 3\n",
            "첫번째 주사위= 6 두번째 주사위= 5\n"
          ]
        }
      ]
    }
  ]
}